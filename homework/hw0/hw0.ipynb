{
 "cells": [
  {
   "cell_type": "code",
   "execution_count": null,
   "metadata": {},
   "outputs": [],
   "source": []
  },
  {
   "cell_type": "markdown",
   "metadata": {},
   "source": [
    "# MCIS6273 Data Mining / Fall 2022 / HW0\n",
    "\n",
    "&#167;  **PLEASE ANSWER THE FOLLOWING QUESTIONS AFTER LISTENING TO THE PODCAST:**\n",
    "\n",
    "## 1. List 3 things that you learned from this podcast?\n",
    "\n",
    "\n",
    "* Human-computer interaction is how people use current technology and the design aspects that make it user-friendly in doing certain tasks.\n",
    "* Python is widely used since researchers are able to build personalized libraries and share them openly for others to use and download hence making the language popular and widely used.\n",
    "* Most people upload their codes on Github as a repository and do not intend for other people to use these very short step comments rather than extensive explanations regarding the code itself. Most of these seemed to be educational.\n",
    "\n",
    "\n",
    "## 2. What is your reaction to the podcast?  Pick at least one point Adam brought up in the interview that you agree with and list your reason why.\n",
    "\n",
    "### What is your reaction to the podcast? \n",
    "So much research is done in software development in terms of building packages to do analysis. Much of the analysis is being done through programming, which makes sharing of codes very crucial in making them widely available for different people to use and learn from it. Notebook makes commenting and explanation of how the data was collected and analyzed easier, making it an easy iterative development environment that provides a really tight REPL. Github provides a platform to share these codes, which are source-controlled, versioned, and issue-tracking in place. Most people use Github for educational purposes, and those that were highly forked were tutorials for different software packages. Python ecosystem plays a role in enabling users to have the data science infrastructure to use the notebook. There is a mentoring aspect to the usage of notebooks, especially for other disciplines like chemistry that have different ways of tracking, sharing, and reviewing data. In the future, the notebook environment will be widely adopted in different fields since it is likely to become the main infrastructure for conducting data analysis in both academic and industrial fields. However, this will require a lot of improvement in the notebook and related packages.\n",
    "\n",
    "### Pick at least one point Adam brought up in the interview that you agree with, and list your reason why.\n",
    "\n",
    "* Most people comment as text rather than code comments which do not envision a rich computational narrative. I agree with this because when sharing results, especially in academics, apart from the steps taken during analysis, an explanation should be given for the result obtained and what it means.\n",
    "* Cognitive science is a fusion of psychology and computer science that models how the brain works to build efficient algorithms. I agree with this because building a good algorithm is not enough when the user is not using it efficiently. Knowing how people use these algorithms and even when they tend to use them will help create and improve the different present algorithms with neuromorphic computing ability.\n",
    "\n",
    "\n",
    "## 3. After listening to the podcast, do you think you are more interested or less interested in learning from Jupyter notebooks on Github?\n",
    "\n",
    "\n",
    "The podcast has made me more interested in learning from Jupyter notebooks on Github because Jupyter notebooks will give me the ability to create, share codes, and document them as well as upload them on Github for other developers to see and use as well as easy creation of slide decks.\n"
   ]
  },
  {
   "cell_type": "code",
   "execution_count": null,
   "metadata": {},
   "outputs": [],
   "source": []
  }
 ],
 "metadata": {
  "anaconda-cloud": {},
  "kernelspec": {
   "display_name": "Python 3",
   "language": "python",
   "name": "python3"
  },
  "language_info": {
   "codemirror_mode": {
    "name": "ipython",
    "version": 3
   },
   "file_extension": ".py",
   "mimetype": "text/x-python",
   "name": "python",
   "nbconvert_exporter": "python",
   "pygments_lexer": "ipython3",
   "version": "3.8.8"
  },
  "toc": {
   "colors": {
    "hover_highlight": "#DAA520",
    "navigate_num": "#000000",
    "navigate_text": "#333333",
    "running_highlight": "#FF0000",
    "selected_highlight": "#FFD700",
    "sidebar_border": "#EEEEEE",
    "wrapper_background": "#FFFFFF"
   },
   "moveMenuLeft": true,
   "nav_menu": {
    "height": "12px",
    "width": "252px"
   },
   "navigate_menu": true,
   "number_sections": false,
   "sideBar": true,
   "threshold": "1",
   "toc_cell": false,
   "toc_section_display": "block",
   "toc_window_display": true,
   "widenNotebook": false
  }
 },
 "nbformat": 4,
 "nbformat_minor": 4
}
